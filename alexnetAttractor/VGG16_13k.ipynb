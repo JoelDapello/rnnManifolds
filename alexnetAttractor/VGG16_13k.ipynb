{
 "cells": [
  {
   "cell_type": "code",
   "execution_count": 1,
   "metadata": {},
   "outputs": [
    {
     "name": "stderr",
     "output_type": "stream",
     "text": [
      "/home/joeldapello/anaconda3/envs/torch/lib/python3.6/site-packages/h5py/__init__.py:36: FutureWarning: Conversion of the second argument of issubdtype from `float` to `np.floating` is deprecated. In future, it will be treated as `np.float64 == np.dtype(float).type`.\n",
      "  from ._conv import register_converters as _register_converters\n"
     ]
    }
   ],
   "source": [
    "import numpy as np\n",
    "import pandas as pd\n",
    "import matplotlib\n",
    "import matplotlib.pyplot as plt\n",
    "from PIL import Image\n",
    "import h5py\n",
    "from scipy.io import loadmat, savemat\n",
    "from sklearn.model_selection import ShuffleSplit\n",
    "from sklearn import svm\n",
    "import torch\n",
    "import torch.nn as nn\n",
    "import torchvision.models as models\n",
    "%matplotlib inline"
   ]
  },
  {
   "cell_type": "code",
   "execution_count": 2,
   "metadata": {},
   "outputs": [],
   "source": [
    "def getWholeImages(impath):\n",
    "    imgs = loadmat(impath)['img_mat'][0]\n",
    "    prepped_imgs = []\n",
    "    for i in range(imgs.shape[0]):\n",
    "        img = Image.fromarray(imgs[i]).resize([227,227])\n",
    "        rgb_img = Image.new(\"RGB\", img.size)\n",
    "        rgb_img.paste(img)\n",
    "        prepped_imgs.append(np.array(rgb_img))\n",
    "                                              \n",
    "    prepped_imgs = np.array(prepped_imgs)\n",
    "    prepped_imgs = np.transpose(prepped_imgs,(0,3,1,2))\n",
    "    prepped_imgs = prepped_imgs/255 # normalize between 0-1\n",
    "    return prepped_imgs\n",
    "\n",
    "def getClasses(classPath):\n",
    "    classes = loadmat(classPath)\n",
    "    classes = np.squeeze(classes['data']['truth'][0,0])\n",
    "    return classes\n",
    "\n",
    "def getOccludedImgsByIdx(file, idx):\n",
    "    dataset = file['dataset']\n",
    "    imstack_ref = dataset[0,idx]\n",
    "    imstack = np.transpose(file[imstack_ref],(3,0,1,2))/255\n",
    "    return imstack\n",
    "\n",
    "def polarize(tensor):\n",
    "    new_tensor = tensor.copy()\n",
    "    new_tensor[tensor>0]=1\n",
    "    new_tensor[tensor==0]=-1\n",
    "    new_tensor[tensor<0]=-1\n",
    "    return new_tensor"
   ]
  },
  {
   "cell_type": "code",
   "execution_count": 3,
   "metadata": {},
   "outputs": [
    {
     "data": {
      "text/plain": [
       "<bound method Module.children of VGG(\n",
       "  (features): Sequential(\n",
       "    (0): Conv2d(3, 64, kernel_size=(3, 3), stride=(1, 1), padding=(1, 1))\n",
       "    (1): ReLU(inplace)\n",
       "    (2): Conv2d(64, 64, kernel_size=(3, 3), stride=(1, 1), padding=(1, 1))\n",
       "    (3): ReLU(inplace)\n",
       "    (4): MaxPool2d(kernel_size=2, stride=2, padding=0, dilation=1, ceil_mode=False)\n",
       "    (5): Conv2d(64, 128, kernel_size=(3, 3), stride=(1, 1), padding=(1, 1))\n",
       "    (6): ReLU(inplace)\n",
       "    (7): Conv2d(128, 128, kernel_size=(3, 3), stride=(1, 1), padding=(1, 1))\n",
       "    (8): ReLU(inplace)\n",
       "    (9): MaxPool2d(kernel_size=2, stride=2, padding=0, dilation=1, ceil_mode=False)\n",
       "    (10): Conv2d(128, 256, kernel_size=(3, 3), stride=(1, 1), padding=(1, 1))\n",
       "    (11): ReLU(inplace)\n",
       "    (12): Conv2d(256, 256, kernel_size=(3, 3), stride=(1, 1), padding=(1, 1))\n",
       "    (13): ReLU(inplace)\n",
       "    (14): Conv2d(256, 256, kernel_size=(3, 3), stride=(1, 1), padding=(1, 1))\n",
       "    (15): ReLU(inplace)\n",
       "    (16): MaxPool2d(kernel_size=2, stride=2, padding=0, dilation=1, ceil_mode=False)\n",
       "    (17): Conv2d(256, 512, kernel_size=(3, 3), stride=(1, 1), padding=(1, 1))\n",
       "    (18): ReLU(inplace)\n",
       "    (19): Conv2d(512, 512, kernel_size=(3, 3), stride=(1, 1), padding=(1, 1))\n",
       "    (20): ReLU(inplace)\n",
       "    (21): Conv2d(512, 512, kernel_size=(3, 3), stride=(1, 1), padding=(1, 1))\n",
       "    (22): ReLU(inplace)\n",
       "    (23): MaxPool2d(kernel_size=2, stride=2, padding=0, dilation=1, ceil_mode=False)\n",
       "    (24): Conv2d(512, 512, kernel_size=(3, 3), stride=(1, 1), padding=(1, 1))\n",
       "    (25): ReLU(inplace)\n",
       "    (26): Conv2d(512, 512, kernel_size=(3, 3), stride=(1, 1), padding=(1, 1))\n",
       "    (27): ReLU(inplace)\n",
       "    (28): Conv2d(512, 512, kernel_size=(3, 3), stride=(1, 1), padding=(1, 1))\n",
       "    (29): ReLU(inplace)\n",
       "    (30): MaxPool2d(kernel_size=2, stride=2, padding=0, dilation=1, ceil_mode=False)\n",
       "  )\n",
       "  (classifier): Sequential(\n",
       "    (0): Linear(in_features=25088, out_features=4096, bias=True)\n",
       "    (1): ReLU(inplace)\n",
       "    (2): Linear(in_features=4096, out_features=4096, bias=True)\n",
       "    (3): ReLU(inplace)\n",
       "  )\n",
       ")>"
      ]
     },
     "execution_count": 3,
     "metadata": {},
     "output_type": "execute_result"
    }
   ],
   "source": [
    "vgg16 = models.vgg16(pretrained=True)\n",
    "sel = [0,1,3,4]\n",
    "vgg16.classifier = nn.Sequential(*[list(vgg16.classifier.children())[i] for i in sel])\n",
    "vgg16.children"
   ]
  },
  {
   "cell_type": "code",
   "execution_count": 4,
   "metadata": {},
   "outputs": [],
   "source": [
    "## run whole images through, extracting fc7 represenations\n",
    "impath = '../imageData/fullImages_325.mat'\n",
    "X = getWholeImages(impath)\n",
    "X = torch.tensor(X).float()\n",
    "X = X.reshape(-1,13,*X.shape[1:]) # stack of 25 13 image sets\n",
    "\n",
    "fc7_full = []\n",
    "for x in X:\n",
    "    out = vgg16.forward(x).detach().numpy()\n",
    "    fc7_full.append(out)\n",
    "    \n",
    "fc7_full = np.array(fc7_full).reshape(325,4096)\n",
    "X = X.reshape(325,*X.shape[2:])"
   ]
  },
  {
   "cell_type": "code",
   "execution_count": 28,
   "metadata": {},
   "outputs": [
    {
     "data": {
      "text/plain": [
       "(325, 4096)"
      ]
     },
     "execution_count": 28,
     "metadata": {},
     "output_type": "execute_result"
    }
   ],
   "source": [
    "fc7_full.shape"
   ]
  },
  {
   "cell_type": "code",
   "execution_count": 6,
   "metadata": {},
   "outputs": [],
   "source": [
    "occludedImgFile = h5py.File('../imageData/occludedImgs_13000.mat', 'r')"
   ]
  },
  {
   "cell_type": "code",
   "execution_count": 8,
   "metadata": {},
   "outputs": [
    {
     "data": {
      "image/png": "[encoded data removed]",
      "text/plain": [
       "<Figure size 432x288 with 1 Axes>"
      ]
     },
     "metadata": {},
     "output_type": "display_data"
    }
   ],
   "source": [
    "i = 40\n",
    "plt.imshow(np.transpose(getOccludedImgsByIdx(occludedImgFile,i)[10],(1,2,0)))\n",
    "# plt.imshow(np.transpose(X[i],(1,2,0)))\n",
    "imstack_i = getOccludedImgsByIdx(occludedImgFile,i)\n",
    "imstack_i = torch.tensor(imstack_i[::2]).float()"
   ]
  },
  {
   "cell_type": "code",
   "execution_count": 9,
   "metadata": {},
   "outputs": [
    {
     "data": {
      "text/plain": [
       "(325,)"
      ]
     },
     "execution_count": 9,
     "metadata": {},
     "output_type": "execute_result"
    }
   ],
   "source": [
    "occludedImgFile = h5py.File('../imageData/occludedImgs_13000.mat', 'r')\n",
    "num_objs = occludedImgFile['dataset'].shape[1]\n",
    "\n",
    "fc7_occ = []\n",
    "\n",
    "for i in range(num_objs):\n",
    "    imstack_i = getOccludedImgsByIdx(occludedImgFile,i)\n",
    "    imstack_i = torch.tensor(imstack_i[::2]).float()\n",
    "    out = vgg16.forward(imstack_i).detach().numpy()\n",
    "    fc7_occ.append(out)\n",
    "    \n",
    "fc7_occ = np.array(fc7_occ)\n",
    "fc7_occ.shape"
   ]
  },
  {
   "cell_type": "code",
   "execution_count": 11,
   "metadata": {},
   "outputs": [
    {
     "data": {
      "text/plain": [
       "((325, 4096), (325,))"
      ]
     },
     "execution_count": 11,
     "metadata": {},
     "output_type": "execute_result"
    }
   ],
   "source": [
    "# convert feature values to 1,-1\n",
    "fc7_full_polarized = polarize(fc7_full)\n",
    "fc7_occ_polarized = np.array([polarize(i) for i in fc7_occ])\n",
    "fc7_full_polarized.shape,fc7_occ_polarized.shape"
   ]
  },
  {
   "cell_type": "code",
   "execution_count": 12,
   "metadata": {},
   "outputs": [],
   "source": [
    "classPath = '../imageData/fullImages_325_labels.mat'\n",
    "classes = getClasses(classPath)"
   ]
  },
  {
   "cell_type": "code",
   "execution_count": 14,
   "metadata": {},
   "outputs": [],
   "source": [
    "savemat('../featureData/vgg15FullAndOccPol_325.mat', {\n",
    "    'fc7_full':fc7_full,\n",
    "    'fc7_occ':fc7_occ,\n",
    "    'fc7_full_polarized':fc7_full_polarized,\n",
    "    'fc7_occ_polarized':fc7_occ_polarized,\n",
    "    'classes':classes\n",
    "})"
   ]
  },
  {
   "cell_type": "markdown",
   "metadata": {},
   "source": [
    "ugh, now run 'featureAttractors.m', which will generate the hopfield network and run fc7_test and tc7_test_occ for 256 timesteps, saving the results to 'fc7_hop_trajs.mat'"
   ]
  }
 ],
 "metadata": {
  "kernelspec": {
   "display_name": "torch",
   "language": "python",
   "name": "torch"
  },
  "language_info": {
   "codemirror_mode": {
    "name": "ipython",
    "version": 3
   },
   "file_extension": ".py",
   "mimetype": "text/x-python",
   "name": "python",
   "nbconvert_exporter": "python",
   "pygments_lexer": "ipython3",
   "version": "3.6.5"
  }
 },
 "nbformat": 4,
 "nbformat_minor": 2
}
